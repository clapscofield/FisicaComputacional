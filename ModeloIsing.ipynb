{
 "cells": [
  {
   "cell_type": "markdown",
   "metadata": {},
   "source": [
    "# Modelo de Ising\n",
    "\n",
    "Clarisse Scofield\n",
    "2018054699"
   ]
  },
  {
   "cell_type": "markdown",
   "metadata": {},
   "source": [
    "## Enumerate Ising"
   ]
  },
  {
   "cell_type": "markdown",
   "metadata": {},
   "source": [
    "This program uses a Gray-code enumeration to go through all the configurations of the Ising model on square lattices of width L with periodic boundary conditions.\n",
    "\n"
   ]
  },
  {
   "cell_type": "code",
   "execution_count": null,
   "metadata": {},
   "outputs": [],
   "source": [
    "def gray_flip(t, N):\n",
    "    k = t[0]\n",
    "    if k > N: return t, k\n",
    "    t[k - 1] = t[k]\n",
    "    t[k] = k + 1\n",
    "    if k != 1: t[0] = 1\n",
    "    return t, k\n",
    "\n",
    "def enumerate_ising(L):\n",
    "    N = L * L\n",
    "    nbr = {i : ((i // L) * L + (i + 1) % L, (i + L) % N,\n",
    "                (i // L) * L + (i - 1) % L, (i - L) % N)\n",
    "                                        for i in range(N)}\n",
    "    S = [-1] * N\n",
    "    E = -2 * N\n",
    "    dos = {}\n",
    "    dos[E] = 1\n",
    "    tau = range(1, N + 2)\n",
    "    for i in range(1, 2 ** N):\n",
    "        tau, k = gray_flip(tau, N)\n",
    "        h = sum(S[n] for n in nbr[k - 1])\n",
    "        E += 2 * h * S[k - 1]\n",
    "        S[k - 1] *= -1\n",
    "        if E in dos: dos[E] += 1\n",
    "        else:        dos[E] = 1\n",
    "    for E in sorted(dos.keys()):\n",
    "        if E >= 0: print E dos[E]"
   ]
  },
  {
   "cell_type": "markdown",
   "metadata": {},
   "source": [
    "### Execução"
   ]
  },
  {
   "cell_type": "code",
   "execution_count": null,
   "metadata": {},
   "outputs": [],
   "source": [
    "#enumerate_ising(2) > data_L2.txt\n",
    "#enumerate_ising(4) > data_L4.txt\n",
    "#enumerate_ising(5) > data_L6.txt"
   ]
  },
  {
   "cell_type": "code",
   "execution_count": null,
   "metadata": {},
   "outputs": [],
   "source": [
    "#chamar enumerate ising para cada L = 2, 4, 6\n",
    "#salvar resultados em arquivos txt: 'data_dos_L2.txt, data_dos_L4.txt, data_dos_L6.txt\n",
    "#descrever que como foi feito"
   ]
  },
  {
   "cell_type": "markdown",
   "metadata": {},
   "source": [
    "## Propriedades termodinâmicas"
   ]
  },
  {
   "cell_type": "code",
   "execution_count": null,
   "metadata": {},
   "outputs": [],
   "source": [
    "import math, os \n",
    "\n",
    "def thermo_ising(L):\n",
    "    N = L * L\n",
    "    filename = 'data_L%i.txt' % L\n",
    "    if os.path.isfile(filename):\n",
    "        dos = {}\n",
    "        f = open(filename, 'r')\n",
    "        for line in f:\n",
    "            E, N_E = line.split()\n",
    "            dos[int(E)] = int(N_E)\n",
    "        f.close()\n",
    "    else:\n",
    "    exit('input file missing')\n",
    "\n",
    "    list_T = [0.5 + 0.5 * i for i in range(10)]\n",
    "    for T in list_T:\n",
    "        Z = 0.0\n",
    "        E_av = 0.0\n",
    "        M_av = 0.0\n",
    "        E2_av = 0.0\n",
    "        for E in dos.keys():\n",
    "            weight = math.exp(- E / T) * dos[E]\n",
    "            Z += weight\n",
    "            E_av += weight * E\n",
    "            E2_av += weight * E ** 2\n",
    "        E2_av /= Z\n",
    "        E_av /= Z\n",
    "        cv = (E2_av - E_av ** 2) / N / T ** 2\n",
    "        print T, E_av / float(N), cv"
   ]
  },
  {
   "cell_type": "markdown",
   "metadata": {},
   "source": [
    "### Execução"
   ]
  },
  {
   "cell_type": "code",
   "execution_count": 1,
   "metadata": {},
   "outputs": [],
   "source": [
    "#thermo_ising(2) > termo_L2.txt\n",
    "#thermo_ising(4) > termo_L4.txt\n",
    "#thermo_ising(6) > termo_L6.txt"
   ]
  },
  {
   "cell_type": "markdown",
   "metadata": {},
   "source": [
    "## Gráficos"
   ]
  },
  {
   "cell_type": "markdown",
   "metadata": {},
   "source": [
    "1. ln (𝑔(𝐸)) como função de 𝐸/𝑁. (Perceba que isto independe da temperatura)\n"
   ]
  },
  {
   "cell_type": "code",
   "execution_count": null,
   "metadata": {},
   "outputs": [],
   "source": []
  },
  {
   "cell_type": "markdown",
   "metadata": {},
   "source": [
    "3. Calor específico, 𝑐𝑣, como função da temperatura\n",
    "Specific heat capacity of the Ising model on small square lattices with periodic boundary conditions"
   ]
  },
  {
   "cell_type": "code",
   "execution_count": null,
   "metadata": {},
   "outputs": [],
   "source": [
    "#2\n",
    "filename = 'data_L2.txt' % L\n",
    "if os.path.isfile(filename):\n",
    "    dos = {}\n",
    "    f = open(filename, 'r')\n",
    "    for line in f:\n",
    "        T, E, cv = line.split()\n",
    "        dos[int(E)] = int(N_E)\n",
    "    f.close()\n",
    "else:\n",
    "exit('input file missing')"
   ]
  },
  {
   "cell_type": "markdown",
   "metadata": {},
   "source": [
    "2. Energia por spin, ⟨𝑒⟩, como função da temperatura\n",
    "3. Calor específico, 𝑐𝑣\n",
    ", como função da temperatura\n",
    "4. Energia livre por spin, 𝑓(𝑇) = −\n",
    "1\n",
    "𝑁𝛽 ln 𝑍\n",
    "5. Entropia por spin, 𝑠(𝑇) =\n",
    "⟨𝑒⟩−𝑓(𝑇)\n",
    "𝑇"
   ]
  },
  {
   "cell_type": "code",
   "execution_count": null,
   "metadata": {},
   "outputs": [],
   "source": []
  },
  {
   "cell_type": "code",
   "execution_count": null,
   "metadata": {},
   "outputs": [],
   "source": []
  }
 ],
 "metadata": {
  "kernelspec": {
   "display_name": "Python 3",
   "language": "python",
   "name": "python3"
  },
  "language_info": {
   "codemirror_mode": {
    "name": "ipython",
    "version": 3
   },
   "file_extension": ".py",
   "mimetype": "text/x-python",
   "name": "python",
   "nbconvert_exporter": "python",
   "pygments_lexer": "ipython3",
   "version": "3.7.6"
  }
 },
 "nbformat": 4,
 "nbformat_minor": 4
}
