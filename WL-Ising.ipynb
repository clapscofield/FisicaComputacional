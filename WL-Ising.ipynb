{
 "cells": [
  {
   "cell_type": "markdown",
   "metadata": {},
   "source": [
    "# WL Ising 2D\n",
    "Clarisse Scofield | 2018054699"
   ]
  },
  {
   "cell_type": "code",
   "execution_count": 2,
   "metadata": {},
   "outputs": [
    {
     "name": "stdout",
     "output_type": "stream",
     "text": [
      "Collecting numba\n",
      "  Downloading numba-0.53.1-cp37-cp37m-manylinux2014_x86_64.whl (3.4 MB)\n",
      "\u001b[K     |████████████████████████████████| 3.4 MB 4.3 MB/s eta 0:00:01\n",
      "\u001b[?25hRequirement already satisfied: numpy>=1.15 in /srv/conda/envs/notebook/lib/python3.7/site-packages (from numba) (1.20.3)\n",
      "Requirement already satisfied: setuptools in /srv/conda/envs/notebook/lib/python3.7/site-packages (from numba) (49.6.0.post20210108)\n",
      "Collecting llvmlite<0.37,>=0.36.0rc1\n",
      "  Downloading llvmlite-0.36.0-cp37-cp37m-manylinux2010_x86_64.whl (25.3 MB)\n",
      "\u001b[K     |████████████████████████████████| 25.3 MB 30.2 MB/s eta 0:00:01\n",
      "\u001b[?25hInstalling collected packages: llvmlite, numba\n",
      "Successfully installed llvmlite-0.36.0 numba-0.53.1\n",
      "Note: you may need to restart the kernel to use updated packages.\n"
     ]
    }
   ],
   "source": [
    "%pip install numba"
   ]
  },
  {
   "cell_type": "code",
   "execution_count": null,
   "metadata": {},
   "outputs": [],
   "source": [
    "from numba import jit\n",
    "import numpy as np\n",
    "\n",
    "Niter=10000000  # Número máximo de passos de Monte Carlo (iterações do algoritmo)\n",
    "L=6            # Dimensão linear da rede\n",
    "flatness = 0.8  # Condição para zerar o histograma e diminuir lnf quando\n",
    "                # min(Histogram) > average(Histogram)*flattness\n",
    "\n",
    "N=L*L           # Total de sítios da rede\n",
    "\n",
    "print(\"Simulação do modelo de Ising 2D pelo método de Wang-Landau\")\n",
    "print(\"Rede quadrada\",L,\"x\",L)\n",
    "\n",
    "@jit(nopython=True)\n",
    "def estado_ini(N):\n",
    "    #Gera um estadon inicial aleatório para rede\n",
    "    s = np.zeros(N,dtype=np.int8)\n",
    "    for i in range(N):\n",
    "        s[i] = np.sign(2*np.random.random()-1)\n",
    "    return s\n",
    "\n",
    "@jit(nopython=True)\n",
    "def vizinhos(L,N):\n",
    "    #Define a tabela de vizinhos \n",
    "    viz = np.zeros((N,4),dtype=np.int16)\n",
    "    for k in range(N):\n",
    "        viz[k,0]=k+1\n",
    "        if (k+1) % L == 0: viz[k,0] = k+1-L\n",
    "        viz[k,1] = k+L \n",
    "        if k > (N-L-1): viz[k,1] = k+L-N\n",
    "        viz[k,2] = k-1 \n",
    "        if k % L == 0: viz[k,2] = k+L-1\n",
    "        viz[k,3] = k-L \n",
    "        if k < L: viz[k,3] = k+N-L\n",
    "    return viz\n",
    "\n",
    "@jit(nopython=True)\n",
    "def energia(s,viz):\n",
    "    #Calcula a energia da configuração s\n",
    "    ener = 0 \n",
    "    for i in range(N):\n",
    "        h = s[viz[i,0]]+s[viz[i,1]]\n",
    "        ener -= s[i]*h\n",
    "    ener = int((ener+2*N)/4)\n",
    "    return ener\n",
    "\n",
    "@jit(nopython=True)\n",
    "def minh(H):\n",
    "    #Calcula o menor valor de H excluindo as energias proibidas\n",
    "    minh=H[0]\n",
    "    for i in range(2,N-1):\n",
    "        if H[i] < minh: minh=H[i]\n",
    "    if H[-1] < minh: minh=H[-1]\n",
    "    return minh\n",
    "\n",
    "@jit(nopython=True)\n",
    "def wang_landau(N,Niter,flatness,ener,s):\n",
    "    # Algoritmo de Wang-Landau\n",
    "    lnge = np.zeros(N+1,dtype=np.float64)\n",
    "    H = np.zeros(N+1,dtype=np.int16)\n",
    "    Hc = np.zeros(N+1,dtype=np.int16)\n",
    "    mmicro = np.zeros(N+1,dtype=np.float64)\n",
    "    lnf = 1.0\n",
    "    m = s.sum()\n",
    "    for it in range(Niter):\n",
    "        #Iterações do algoritmo\n",
    "        for imc in range(N):\n",
    "            #Passo de Monte Carlo - percorre toda a rede. trocar n spins de direcao\n",
    "            k = np.random.randint(0,N-1)\n",
    "            h = s[viz[k,0]]+s[viz[k,1]]+s[viz[k,2]]+s[viz[k,3]] # soma dos vizinhos\n",
    "            ener2 = ener + int(s[k]*h*0.5)\n",
    "            #print(lnge[ener]-lnge[ener2])\n",
    "            if lnge[ener]>lnge[ener2]:\n",
    "                s[k] = -s[k] \n",
    "                ener = ener2\n",
    "                m -= 2*s[k]\n",
    "            else:\n",
    "                p = np.exp(lnge[ener]-lnge[ener2])\n",
    "                if np.random.random() < p: \n",
    "                    s[k] = -s[k] \n",
    "                    ener = ener2\n",
    "                    m -= 2*s[k]\n",
    "            H[ener] += 1\n",
    "            lnge[ener] += lnf\n",
    "            mmicro[ener] += abs(m)\n",
    "        if it%1000 == 0:\n",
    "            hmed = float(H.sum())/float((N-1))\n",
    "            hmin = minh(H)\n",
    "            if hmin > (flatness*hmed):\n",
    "                Hc += H\n",
    "                H = np.zeros(N+1,dtype=np.int16)\n",
    "                lnf = 0.5*lnf\n",
    "                print(\"Histograma flat!\",lnf)\n",
    "            if it%1000000 == 0: print(\"Iteração número\",it)\n",
    "        if lnf < 0.00000001: break\n",
    "        \n",
    "    mmicro = mmicro/Hc\n",
    "    lnge = lnge - lnge[0]+np.log(2)\n",
    "    return lnge,mmicro,ener,s"
   ]
  },
  {
   "cell_type": "code",
   "execution_count": null,
   "metadata": {},
   "outputs": [],
   "source": [
    "#Execucao\n",
    "Niter=10000000  # Número máximo de passos de Monte Carlo (iterações do algoritmo)\n",
    "L=6            # Dimensão linear da rede\n",
    "flatness = 0.8  # Condição para zerar o histograma e diminuir lnf quando\n",
    "                # min(Histogram) > average(Histogram)*flattness\n",
    "N = L * L\n",
    "\n",
    "s = estado_ini(N)\n",
    "viz = vizinhos(L, N)\n",
    "ener = energia(s, viz)\n",
    "wang = wang_landau(N,Niter,flatness,ener,s)\n",
    "print(wang)"
   ]
  },
  {
   "cell_type": "code",
   "execution_count": 15,
   "metadata": {},
   "outputs": [
    {
     "name": "stdout",
     "output_type": "stream",
     "text": [
      "       0          1           2\n",
      "0      0   0.693147  568.166727\n",
      "1      2   7.035616  564.341234\n",
      "2      3   7.730097  562.516755\n",
      "3      4  12.708448  562.129834\n",
      "4      5  14.091362  559.830706\n",
      "..   ...        ...         ...\n",
      "570  571  14.121778   83.993426\n",
      "571  572  12.741752   84.015692\n",
      "572  573   7.766827   84.000000\n",
      "573  574   7.057542   84.025871\n",
      "574  576   0.757825   84.000000\n",
      "\n",
      "[575 rows x 3 columns]\n"
     ]
    }
   ],
   "source": [
    "import pandas as pd\n",
    "\n",
    "#ln g(E) para L = 24\n",
    "df = pd.read_csv('lnge.dat',\n",
    "            header=None, sep='\\s\\s+', engine='python')\n",
    "print(df)"
   ]
  },
  {
   "cell_type": "code",
   "execution_count": null,
   "metadata": {},
   "outputs": [],
   "source": []
  }
 ],
 "metadata": {
  "kernelspec": {
   "display_name": "Python 3",
   "language": "python",
   "name": "python3"
  },
  "language_info": {
   "codemirror_mode": {
    "name": "ipython",
    "version": 3
   },
   "file_extension": ".py",
   "mimetype": "text/x-python",
   "name": "python",
   "nbconvert_exporter": "python",
   "pygments_lexer": "ipython3",
   "version": "3.7.6"
  }
 },
 "nbformat": 4,
 "nbformat_minor": 5
}
